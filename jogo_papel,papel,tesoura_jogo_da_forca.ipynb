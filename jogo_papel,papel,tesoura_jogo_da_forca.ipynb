{
  "nbformat": 4,
  "nbformat_minor": 0,
  "metadata": {
    "colab": {
      "provenance": [],
      "toc_visible": true,
      "authorship_tag": "ABX9TyPNDyP5eZeVhDUcOUxT1wuD",
      "include_colab_link": true
    },
    "kernelspec": {
      "name": "python3",
      "display_name": "Python 3"
    },
    "language_info": {
      "name": "python"
    }
  },
  "cells": [
    {
      "cell_type": "markdown",
      "metadata": {
        "id": "view-in-github",
        "colab_type": "text"
      },
      "source": [
        "<a href=\"https://colab.research.google.com/github/eduardomanzini/Google-Colab-faculdade/blob/main/jogo_papel%2Cpapel%2Ctesoura_jogo_da_forca.ipynb\" target=\"_parent\"><img src=\"https://colab.research.google.com/assets/colab-badge.svg\" alt=\"Open In Colab\"/></a>"
      ]
    },
    {
      "cell_type": "markdown",
      "source": [
        "Jogo pedra, papel, tesoura"
      ],
      "metadata": {
        "id": "8jMdMTxsr1Gc"
      }
    },
    {
      "cell_type": "code",
      "source": [
        "import random\n",
        "\n",
        "def escolha_usuario():\n",
        "    escolha = input(\"Escolha: Pedra, Papel ou Tesoura? \").lower()\n",
        "    while escolha not in ['pedra', 'papel', 'tesoura']:\n",
        "        print(\"Escolha inválida. Tente novamente.\")\n",
        "        escolha = input(\"Escolha: Pedra, Papel ou Tesoura? \").lower()\n",
        "    return escolha\n",
        "\n",
        "def escolha_computador():\n",
        "    return random.choice(['pedra', 'papel', 'tesoura'])\n",
        "\n",
        "def verificar_vencedor(escolha_usuario, escolha_computador):\n",
        "    if escolha_usuario == escolha_computador:\n",
        "        return \"Empate!\"\n",
        "    elif (escolha_usuario == 'pedra' and escolha_computador == 'tesoura') or \\\n",
        "         (escolha_usuario == 'papel' and escolha_computador == 'pedra') or \\\n",
        "         (escolha_usuario == 'tesoura' and escolha_computador == 'papel'):\n",
        "        return \"Você ganhou!\"\n",
        "    else:\n",
        "        return \"Você perdeu!\"\n",
        "\n",
        "def main():\n",
        "    print(\"Bem-vindo ao Jogo Pedra, Papel e Tesoura!\")\n",
        "\n",
        "    while True:\n",
        "        escolha_usu = escolha_usuario()\n",
        "        escolha_comp = escolha_computador()\n",
        "\n",
        "        print(f\"\\nVocê escolheu: {escolha_usu}\")\n",
        "        print(f\"O computador escolheu: {escolha_comp}\")\n",
        "\n",
        "        resultado = verificar_vencedor(escolha_usu, escolha_comp)\n",
        "        print(f\"\\nResultado: {resultado}\")\n",
        "\n",
        "        jogar_novamente = input(\"Quer jogar novamente? (s/n): \").lower()\n",
        "        if jogar_novamente == 'n':\n",
        "            break\n",
        "\n",
        "if __name__ == \"__main__\":\n",
        "    main()"
      ],
      "metadata": {
        "id": "o-XLijxSr209"
      },
      "execution_count": null,
      "outputs": []
    },
    {
      "cell_type": "markdown",
      "source": [
        "Jogo da forca\n"
      ],
      "metadata": {
        "id": "_N1c047gnALT"
      }
    },
    {
      "cell_type": "code",
      "source": [
        "import random\n",
        "\n",
        "def escolher_palavra():\n",
        "    palavras = [\"python\", \"programacao\", \"desafio\", \"computador\", \"teclado\", \"linguagem\"]\n",
        "    return random.choice(palavras)\n",
        "\n",
        "def exibir_palavra(palavra, letras_corretas):\n",
        "    exibicao = \"\"\n",
        "    for letra in palavra:\n",
        "        if letra in letras_corretas:\n",
        "            exibicao += letra\n",
        "        else:\n",
        "            exibicao += \"_\"\n",
        "    return exibicao\n",
        "\n",
        "def jogar_forca():\n",
        "    palavra_secreta = escolher_palavra()\n",
        "    letras_corretas = []\n",
        "    tentativas_restantes = 6\n",
        "\n",
        "    print(\"Bem-vindo ao Jogo da Forca!\")\n",
        "    print(exibir_palavra(palavra_secreta, letras_corretas))\n",
        "\n",
        "    while tentativas_restantes > 0:\n",
        "        palpite = input(\"Digite uma letra: \").lower()\n",
        "\n",
        "        if palpite.isalpha() and len(palpite) == 1:\n",
        "            if palpite in letras_corretas:\n",
        "                print(\"Você já tentou esta letra. Tente novamente.\")\n",
        "            elif palpite in palavra_secreta:\n",
        "                letras_corretas.append(palpite)\n",
        "                print(\"Letra correta!\")\n",
        "            else:\n",
        "                tentativas_restantes -= 1\n",
        "                print(f\"Letra incorreta! Tentativas restantes: {tentativas_restantes}\")\n",
        "        else:\n",
        "            print(\"Por favor, digite uma única letra válida.\")\n",
        "\n",
        "        print(exibir_palavra(palavra_secreta, letras_corretas))\n",
        "\n",
        "        if set(letras_corretas) == set(palavra_secreta):\n",
        "            print(\"Parabéns! Você acertou a palavra!\")\n",
        "            break\n",
        "\n",
        "    if tentativas_restantes == 0:\n",
        "        print(f\"Fim de jogo! A palavra correta era '{palavra_secreta}'.\")\n",
        "\n",
        "if __name__ == \"__main__\":\n",
        "    jogar_forca()\n"
      ],
      "metadata": {
        "id": "whUKWTaRnJRy"
      },
      "execution_count": null,
      "outputs": []
    }
  ]
}