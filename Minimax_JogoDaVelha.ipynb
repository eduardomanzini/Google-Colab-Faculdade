{
  "nbformat": 4,
  "nbformat_minor": 0,
  "metadata": {
    "colab": {
      "provenance": [],
      "authorship_tag": "ABX9TyNjQcIpydXBkWJKPkSkgoeD",
      "include_colab_link": true
    },
    "kernelspec": {
      "name": "python3",
      "display_name": "Python 3"
    },
    "language_info": {
      "name": "python"
    }
  },
  "cells": [
    {
      "cell_type": "markdown",
      "metadata": {
        "id": "view-in-github",
        "colab_type": "text"
      },
      "source": [
        "<a href=\"https://colab.research.google.com/github/eduardomanzini/Google-Colab-faculdade/blob/main/Minimax_JogoDaVelha.ipynb\" target=\"_parent\"><img src=\"https://colab.research.google.com/assets/colab-badge.svg\" alt=\"Open In Colab\"/></a>"
      ]
    },
    {
      "cell_type": "code",
      "execution_count": 2,
      "metadata": {
        "id": "tHOBc-35VNCj"
      },
      "outputs": [],
      "source": [
        "import math\n",
        "\n",
        "PLAYER = 'X'\n",
        "OPPONENT = 'O'"
      ]
    },
    {
      "cell_type": "code",
      "source": [
        "def print_board(board):\n",
        "    for row in board:\n",
        "        print(\" | \".join(row))\n",
        "        print(\"-\" * 5)"
      ],
      "metadata": {
        "id": "BzImoppZVeUh"
      },
      "execution_count": 3,
      "outputs": []
    },
    {
      "cell_type": "code",
      "source": [
        "\n",
        "def is_moves_left(board):\n",
        "    for row in board:\n",
        "        if ' ' in row:\n",
        "            return True\n",
        "    return False\n"
      ],
      "metadata": {
        "id": "U7Q78v9qVfu8"
      },
      "execution_count": 4,
      "outputs": []
    },
    {
      "cell_type": "code",
      "source": [
        "\n",
        "def evaluate(board):\n",
        "    # Checar linhas para ganhar\n",
        "    for row in range(3):\n",
        "        if board[row][0] == board[row][1] == board[row][2]:\n",
        "            if board[row][0] == PLAYER:\n",
        "                return 10\n",
        "            elif board[row][0] == OPPONENT:\n",
        "                return -10\n",
        "\n",
        "    # Chegar colunas para ganhar\n",
        "    for col in range(3):\n",
        "        if board[0][col] == board[1][col] == board[2][col]:\n",
        "            if board[0][col] == PLAYER:\n",
        "                return 10\n",
        "            elif board[0][col] == OPPONENT:\n",
        "                return -10\n",
        "\n",
        "    # Chegar diagonal para ganhar\n",
        "    if board[0][0] == board[1][1] == board[2][2]:\n",
        "        if board[0][0] == PLAYER:\n",
        "            return 10\n",
        "        elif board[0][0] == OPPONENT:\n",
        "            return -10\n",
        "\n",
        "    if board[0][2] == board[1][1] == board[2][0]:\n",
        "        if board[0][2] == PLAYER:\n",
        "            return 10\n",
        "        elif board[0][2] == OPPONENT:\n",
        "            return -10\n",
        "\n",
        "    # No ganhou\n",
        "    return 0"
      ],
      "metadata": {
        "id": "hYUGiiexVh6W"
      },
      "execution_count": 5,
      "outputs": []
    },
    {
      "cell_type": "code",
      "source": [
        "def minimax(board, depth, is_max):\n",
        "    score = evaluate(board)\n",
        "\n",
        "    if score == 10:\n",
        "        return score\n",
        "    if score == -10:\n",
        "        return score\n",
        "    if not is_moves_left(board):\n",
        "        return 0\n",
        "\n",
        "    if is_max:\n",
        "        best = -math.inf\n",
        "\n",
        "        for i in range(3):\n",
        "            for j in range(3):\n",
        "                if board[i][j] == ' ':\n",
        "                    board[i][j] = PLAYER\n",
        "                    best = max(best, minimax(board, depth + 1, not is_max))\n",
        "                    board[i][j] = ' '\n",
        "        return best\n",
        "    else:\n",
        "        best = math.inf\n",
        "\n",
        "        for i in range(3):\n",
        "            for j in range(3):\n",
        "                if board[i][j] == ' ':\n",
        "                    board[i][j] = OPPONENT\n",
        "                    best = min(best, minimax(board, depth + 1, not is_max))\n",
        "                    board[i][j] = ' '\n",
        "        return best\n"
      ],
      "metadata": {
        "id": "-mm-Cc3KVldd"
      },
      "execution_count": 6,
      "outputs": []
    },
    {
      "cell_type": "markdown",
      "source": [
        "** cinco primeiras iterações do algoritmo minimax com o jogo da velha:**\n",
        "\n",
        " Primeira Iteração:\n",
        "\n",
        "O jogador faz o primeiro movimento.\n",
        "O computador executa o algoritmo minimax para encontrar o melhor movimento.\n",
        "Ele avalia todas as possíveis células vazias e simula o movimento do computador em cada uma delas.\n",
        "Ele continua até atingir uma profundidade máxima ou encontrar um resultado final (vitória, derrota ou empate).\n",
        "Ele retorna a pontuação para cada movimento simulado.\n",
        "O computador seleciona o movimento com a pontuação mais alta e faz esse movimento.\n",
        "Segunda Iteração:\n",
        "\n",
        "O jogador faz o segundo movimento.\n",
        "O computador executa novamente o algoritmo minimax para encontrar o próximo melhor movimento.\n",
        "Ele avalia todas as possíveis células vazias e simula o movimento do computador em cada uma delas.\n",
        "Ele continua até atingir uma profundidade máxima ou encontrar um resultado final (vitória, derrota ou empate).\n",
        "Ele retorna a pontuação para cada movimento simulado.\n",
        "O computador seleciona o movimento com a pontuação mais alta e faz esse movimento.\n",
        "Terceira Iteração:\n",
        "\n",
        "O jogador faz o terceiro movimento.\n",
        "O computador executa novamente o algoritmo minimax para encontrar o próximo melhor movimento.\n",
        "Ele avalia todas as possíveis células vazias e simula o movimento do computador em cada uma delas.\n",
        "Ele continua até atingir uma profundidade máxima ou encontrar um resultado final (vitória, derrota ou empate).\n",
        "Ele retorna a pontuação para cada movimento simulado.\n",
        "O computador seleciona o movimento com a pontuação mais alta e faz esse movimento.\n",
        "Quarta Iteração:\n",
        "\n",
        "O jogador faz o quarto movimento.\n",
        "O computador executa novamente o algoritmo minimax para encontrar o próximo melhor movimento.\n",
        "Ele avalia todas as possíveis células vazias e simula o movimento do computador em cada uma delas.\n",
        "Ele continua até atingir uma profundidade máxima ou encontrar um resultado final (vitória, derrota ou empate).\n",
        "Ele retorna a pontuação para cada movimento simulado.\n",
        "O computador seleciona o movimento com a pontuação mais alta e faz esse movimento.\n",
        "Quinta Iteração:\n",
        "\n",
        "O jogador faz o quinto movimento.\n",
        "O computador executa novamente o algoritmo minimax para encontrar o próximo melhor movimento.\n",
        "Ele avalia todas as possíveis células vazias e simula o movimento do computador em cada uma delas.\n",
        "Ele continua até atingir uma profundidade máxima ou encontrar um resultado final (vitória, derrota ou empate).\n",
        "Ele retorna a pontuação para cada movimento simulado.\n",
        "O computador seleciona o movimento com a pontuação mais alta e faz esse movimento."
      ],
      "metadata": {
        "id": "VJKuZQcXW9u1"
      }
    },
    {
      "cell_type": "code",
      "source": [
        "def find_best_move(board):\n",
        "    best_val = -math.inf\n",
        "    best_move = (-1, -1)\n",
        "\n",
        "    for i in range(3):\n",
        "        for j in range(3):\n",
        "            if board[i][j] == ' ':\n",
        "                board[i][j] = PLAYER\n",
        "                move_val = minimax(board, 0, False)\n",
        "                board[i][j] = ' '\n",
        "                if move_val > best_val:\n",
        "                    best_move = (i, j)\n",
        "                    best_val = move_val\n",
        "    return best_move"
      ],
      "metadata": {
        "id": "Qrgjey4gVpKi"
      },
      "execution_count": 7,
      "outputs": []
    },
    {
      "cell_type": "code",
      "source": [
        "def main():\n",
        "    board = [\n",
        "        [' ', ' ', ' '],\n",
        "        [' ', ' ', ' '],\n",
        "        [' ', ' ', ' ']\n",
        "    ]\n",
        "\n",
        "    while True:\n",
        "        print_board(board)\n",
        "        row, col = map(int, input(\"Entre com o seu movimento(linha coluna): \").split())\n",
        "        if board[row][col] != ' ':\n",
        "            print(\"Movimento inválido! Tente novamente.\")\n",
        "            continue\n",
        "        board[row][col] = OPPONENT\n",
        "\n",
        "        if evaluate(board) == -10:\n",
        "            print_board(board)\n",
        "            print(\"Você ganhou!\")\n",
        "            break\n",
        "\n",
        "        if not is_moves_left(board):\n",
        "            print_board(board)\n",
        "            print(\"Velha!\")\n",
        "            break\n",
        "\n",
        "        best_move = find_best_move(board)\n",
        "        board[best_move[0]][best_move[1]] = PLAYER\n",
        "\n",
        "        if evaluate(board) == 10:\n",
        "            print_board(board)\n",
        "            print(\"Você perdeu!\")\n",
        "            break\n",
        "\n",
        "        if not is_moves_left(board):\n",
        "            print_board(board)\n",
        "            print(\"Velha!\")\n",
        "            break\n",
        "\n",
        "if __name__ == \"__main__\":\n",
        "    main()"
      ],
      "metadata": {
        "colab": {
          "base_uri": "https://localhost:8080/"
        },
        "id": "gpRxl9EyVshE",
        "outputId": "750c5f5f-08e9-443b-eeb9-d4e30eaf2b53"
      },
      "execution_count": 9,
      "outputs": [
        {
          "output_type": "stream",
          "name": "stdout",
          "text": [
            "  |   |  \n",
            "-----\n",
            "  |   |  \n",
            "-----\n",
            "  |   |  \n",
            "-----\n",
            "Entre com o seu movimento(linha coluna): 0 1\n",
            "X | O |  \n",
            "-----\n",
            "  |   |  \n",
            "-----\n",
            "  |   |  \n",
            "-----\n",
            "Entre com o seu movimento(linha coluna): 1 1\n",
            "X | O |  \n",
            "-----\n",
            "  | O |  \n",
            "-----\n",
            "  | X |  \n",
            "-----\n",
            "Entre com o seu movimento(linha coluna): 1 0\n",
            "X | O |  \n",
            "-----\n",
            "O | O | X\n",
            "-----\n",
            "  | X |  \n",
            "-----\n",
            "Entre com o seu movimento(linha coluna): 0 2\n",
            "X | O | O\n",
            "-----\n",
            "O | O | X\n",
            "-----\n",
            "X | X |  \n",
            "-----\n",
            "Entre com o seu movimento(linha coluna): 2 2\n",
            "X | O | O\n",
            "-----\n",
            "O | O | X\n",
            "-----\n",
            "X | X | O\n",
            "-----\n",
            "Velha!\n"
          ]
        }
      ]
    }
  ]
}