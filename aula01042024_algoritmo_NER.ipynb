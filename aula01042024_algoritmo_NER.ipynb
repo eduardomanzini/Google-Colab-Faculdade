{
  "nbformat": 4,
  "nbformat_minor": 0,
  "metadata": {
    "colab": {
      "provenance": [],
      "authorship_tag": "ABX9TyOuweCf87Yny2VMZVczs+6J",
      "include_colab_link": true
    },
    "kernelspec": {
      "name": "python3",
      "display_name": "Python 3"
    },
    "language_info": {
      "name": "python"
    }
  },
  "cells": [
    {
      "cell_type": "markdown",
      "metadata": {
        "id": "view-in-github",
        "colab_type": "text"
      },
      "source": [
        "<a href=\"https://colab.research.google.com/github/eduardomanzini/Google-Colab-faculdade/blob/main/aula01042024_algoritmo_NER.ipynb\" target=\"_parent\"><img src=\"https://colab.research.google.com/assets/colab-badge.svg\" alt=\"Open In Colab\"/></a>"
      ]
    },
    {
      "cell_type": "code",
      "execution_count": null,
      "metadata": {
        "id": "vtL8dc9bzAkG"
      },
      "outputs": [],
      "source": [
        "%pip install spacy"
      ]
    },
    {
      "cell_type": "code",
      "source": [
        "!python -m spacy download pt_core_news_sm"
      ],
      "metadata": {
        "id": "KiKvJyolzWTP"
      },
      "execution_count": null,
      "outputs": []
    },
    {
      "cell_type": "code",
      "source": [
        "import spacy"
      ],
      "metadata": {
        "id": "jdERC2Zxz51A"
      },
      "execution_count": null,
      "outputs": []
    },
    {
      "cell_type": "code",
      "source": [],
      "metadata": {
        "id": "R03PsBpB0NMX"
      },
      "execution_count": null,
      "outputs": []
    },
    {
      "cell_type": "markdown",
      "source": [
        "Carregar a biblioteca spacy"
      ],
      "metadata": {
        "id": "UIFBurUi0P6W"
      }
    },
    {
      "cell_type": "code",
      "source": [
        "nlp = spacy.load(\"pt_core_news_sm\")"
      ],
      "metadata": {
        "id": "wIYDlMKF0153"
      },
      "execution_count": null,
      "outputs": []
    },
    {
      "cell_type": "code",
      "source": [
        "texto = \"\"\"\n",
        "O Santos Futebol Clube, mais conhecido apenas como Santos, é um clube brasileiro fundado em 14 de abril de 1912, com sede na cidade homônima. Inicialmente suas cores seriam o branco, azul e dourado, mas um ano após a sua fundação, ficou decidido que as cores do clube passariam a ser branco e preto. O clube manda as suas partidas no Estádio Urbano Caldeira, mais conhecido como Vila Belmiro.Seus maiores rivais no futebol são o Corinthians, com quem disputa o Clássico Alvinegro; o Palmeiras, com quem disputa o Clássico da Saudade; e o São Paulo, com quem disputa o San-São.\"\"\""
      ],
      "metadata": {
        "id": "xLVH4pWJ1AwY"
      },
      "execution_count": null,
      "outputs": []
    },
    {
      "cell_type": "code",
      "source": [
        "doc = nlp(texto)\n"
      ],
      "metadata": {
        "id": "agln_cFn1My_"
      },
      "execution_count": null,
      "outputs": []
    },
    {
      "cell_type": "code",
      "source": [
        "for entidade in doc.ents:\n",
        "  print(entidade.text, entidade.label_)"
      ],
      "metadata": {
        "colab": {
          "base_uri": "https://localhost:8080/"
        },
        "id": "Q9u2EcLX1Rf3",
        "outputId": "377a109e-f7b4-4ef8-cca9-179f4fab533e"
      },
      "execution_count": null,
      "outputs": [
        {
          "output_type": "stream",
          "name": "stdout",
          "text": [
            "Santos Futebol Clube ORG\n",
            "Santos LOC\n",
            "Estádio Urbano Caldeira LOC\n",
            "Vila Belmiro LOC\n",
            "Corinthians ORG\n",
            "Clássico Alvinegro MISC\n",
            "Palmeiras ORG\n",
            "Clássico da Saudade MISC\n",
            "São Paulo ORG\n",
            "San-São MISC\n"
          ]
        }
      ]
    }
  ]
}