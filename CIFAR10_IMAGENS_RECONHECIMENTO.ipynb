{
  "nbformat": 4,
  "nbformat_minor": 0,
  "metadata": {
    "colab": {
      "provenance": [],
      "authorship_tag": "ABX9TyOAUC4BPUKiUbpABtK/VqEz",
      "include_colab_link": true
    },
    "kernelspec": {
      "name": "python3",
      "display_name": "Python 3"
    },
    "language_info": {
      "name": "python"
    }
  },
  "cells": [
    {
      "cell_type": "markdown",
      "metadata": {
        "id": "view-in-github",
        "colab_type": "text"
      },
      "source": [
        "<a href=\"https://colab.research.google.com/github/eduardomanzini/Google-Colab-faculdade/blob/main/CIFAR10_IMAGENS_RECONHECIMENTO.ipynb\" target=\"_parent\"><img src=\"https://colab.research.google.com/assets/colab-badge.svg\" alt=\"Open In Colab\"/></a>"
      ]
    },
    {
      "cell_type": "code",
      "execution_count": 1,
      "metadata": {
        "colab": {
          "base_uri": "https://localhost:8080/"
        },
        "id": "vypkHbN732n_",
        "outputId": "22d791e6-77e1-4b5b-a835-094b1748a9cb"
      },
      "outputs": [
        {
          "output_type": "stream",
          "name": "stdout",
          "text": [
            "Downloading data from https://www.cs.toronto.edu/~kriz/cifar-10-python.tar.gz\n",
            "170498071/170498071 [==============================] - 4s 0us/step\n",
            "Epoch 1/10\n",
            "1563/1563 [==============================] - 56s 35ms/step - loss: 1.4515 - accuracy: 0.4702 - val_loss: 1.1279 - val_accuracy: 0.6022\n",
            "Epoch 2/10\n",
            "1563/1563 [==============================] - 51s 33ms/step - loss: 1.0486 - accuracy: 0.6297 - val_loss: 0.9767 - val_accuracy: 0.6609\n",
            "Epoch 3/10\n",
            "1563/1563 [==============================] - 52s 33ms/step - loss: 0.8758 - accuracy: 0.6918 - val_loss: 0.8941 - val_accuracy: 0.6899\n",
            "Epoch 4/10\n",
            "1563/1563 [==============================] - 54s 34ms/step - loss: 0.7507 - accuracy: 0.7361 - val_loss: 0.8418 - val_accuracy: 0.7094\n",
            "Epoch 5/10\n",
            "1563/1563 [==============================] - 51s 32ms/step - loss: 0.6614 - accuracy: 0.7663 - val_loss: 0.8157 - val_accuracy: 0.7222\n",
            "Epoch 6/10\n",
            "1563/1563 [==============================] - 52s 33ms/step - loss: 0.5755 - accuracy: 0.7976 - val_loss: 0.8444 - val_accuracy: 0.7135\n",
            "Epoch 7/10\n",
            "1563/1563 [==============================] - 54s 34ms/step - loss: 0.5016 - accuracy: 0.8224 - val_loss: 0.8240 - val_accuracy: 0.7325\n",
            "Epoch 8/10\n",
            "1563/1563 [==============================] - 51s 33ms/step - loss: 0.4324 - accuracy: 0.8486 - val_loss: 0.8665 - val_accuracy: 0.7214\n",
            "Epoch 9/10\n",
            "1563/1563 [==============================] - 52s 33ms/step - loss: 0.3683 - accuracy: 0.8678 - val_loss: 0.9419 - val_accuracy: 0.7306\n",
            "Epoch 10/10\n",
            "1563/1563 [==============================] - 50s 32ms/step - loss: 0.3089 - accuracy: 0.8896 - val_loss: 1.0715 - val_accuracy: 0.7164\n",
            "313/313 [==============================] - 3s 10ms/step - loss: 1.0715 - accuracy: 0.7164\n",
            "Test accuracy: 0.7164000272750854\n"
          ]
        }
      ],
      "source": [
        "import tensorflow as tf\n",
        "from tensorflow.keras.datasets import cifar10\n",
        "from tensorflow.keras.preprocessing.image import ImageDataGenerator\n",
        "\n",
        "# Carregar os dados CIFAR-10\n",
        "(train_images, train_labels), (test_images, test_labels) = cifar10.load_data()\n",
        "\n",
        "# Pré-processamento das imagens\n",
        "train_images = train_images / 255.0\n",
        "test_images = test_images / 255.0\n",
        "\n",
        "# Definir o modelo CNN\n",
        "model = tf.keras.models.Sequential([\n",
        "    tf.keras.layers.Conv2D(32, (3, 3), activation='relu', input_shape=(32, 32, 3)),\n",
        "    tf.keras.layers.MaxPooling2D((2, 2)),\n",
        "    tf.keras.layers.Conv2D(64, (3, 3), activation='relu'),\n",
        "    tf.keras.layers.MaxPooling2D((2, 2)),\n",
        "    tf.keras.layers.Conv2D(128, (3, 3), activation='relu'),\n",
        "    tf.keras.layers.MaxPooling2D((2, 2)),\n",
        "    tf.keras.layers.Flatten(),\n",
        "    tf.keras.layers.Dense(512, activation='relu'),\n",
        "    tf.keras.layers.Dense(10, activation='softmax')\n",
        "])\n",
        "\n",
        "# Compilar o modelo\n",
        "model.compile(optimizer='adam',\n",
        "              loss='sparse_categorical_crossentropy',\n",
        "              metrics=['accuracy'])\n",
        "\n",
        "# Treinar o modelo\n",
        "history = model.fit(train_images, train_labels, epochs=10, validation_data=(test_images, test_labels))\n",
        "\n",
        "# Avaliar o modelo\n",
        "test_loss, test_acc = model.evaluate(test_images, test_labels)\n",
        "\n",
        "print('Test accuracy:', test_acc)"
      ]
    },
    {
      "cell_type": "code",
      "source": [
        "model.save('modelo_cifar10.h5')"
      ],
      "metadata": {
        "id": "LIw5OdPV6Mjw"
      },
      "execution_count": 11,
      "outputs": []
    },
    {
      "cell_type": "code",
      "source": [
        "import tensorflow as tf\n",
        "import numpy as np\n",
        "from tensorflow.keras.preprocessing import image\n",
        "\n",
        "# Carregar o modelo treinado\n",
        "model = tf.keras.models.load_model('modelo_cifar10.h5')\n",
        "\n",
        "# Carregar uma nova imagem\n",
        "image_path = '/content/lapiz.png'  # Substitua pelo caminho da sua imagem\n",
        "img = image.load_img(image_path, target_size=(32, 32))\n",
        "img_array = image.img_to_array(img)\n",
        "img_array = np.expand_dims(img_array, axis=0)\n",
        "img_array /= 255.0  # Normalização\n",
        "\n",
        "# Fazer a previsão\n",
        "prediction = model.predict(img_array)\n",
        "predicted_class = np.argmax(prediction)\n",
        "\n",
        "# Mapear o número da classe para o nome da classe\n",
        "class_names = ['avião', 'automóvel', 'pássaro', 'gato', 'cervo', 'cachorro', 'sapo', 'cavalo', 'navio', 'caminhão']\n",
        "predicted_label = class_names[predicted_class]\n",
        "\n",
        "print('Predicted class:', predicted_label)\n"
      ],
      "metadata": {
        "id": "8hhHjToF6QAD"
      },
      "execution_count": null,
      "outputs": []
    }
  ]
}