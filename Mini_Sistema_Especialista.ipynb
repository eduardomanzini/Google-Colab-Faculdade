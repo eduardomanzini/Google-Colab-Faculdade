{
  "nbformat": 4,
  "nbformat_minor": 0,
  "metadata": {
    "colab": {
      "provenance": [],
      "authorship_tag": "ABX9TyMPXhN4a15Pk2K0s20JfPkM",
      "include_colab_link": true
    },
    "kernelspec": {
      "name": "python3",
      "display_name": "Python 3"
    },
    "language_info": {
      "name": "python"
    }
  },
  "cells": [
    {
      "cell_type": "markdown",
      "metadata": {
        "id": "view-in-github",
        "colab_type": "text"
      },
      "source": [
        "<a href=\"https://colab.research.google.com/github/eduardomanzini/Google-Colab-faculdade/blob/main/Mini_Sistema_Especialista.ipynb\" target=\"_parent\"><img src=\"https://colab.research.google.com/assets/colab-badge.svg\" alt=\"Open In Colab\"/></a>"
      ]
    },
    {
      "cell_type": "code",
      "execution_count": null,
      "metadata": {
        "id": "VOSCgsfjKwbF"
      },
      "outputs": [],
      "source": []
    },
    {
      "cell_type": "code",
      "source": [
        "# Base de conhecimento\n",
        "ingredientes = {\n",
        "    \"café da manhã\": [\"ovo\", \"pão\", \"abacate\", \"frutas\"],\n",
        "    \"almoço\": [\"frango\", \"arroz\", \"vegetais\", \"quinoa\"],\n",
        "    \"jantar\": [\"quinoa\", \"vegetais\", \"arroz\", \"frango\"]\n",
        "}\n",
        "\n",
        "restricoes = [\"vegetariano\", \"sem glúten\", \"sem lactose\"]\n",
        "\n",
        "# Regras de produção\n",
        "def planejar_refeicao(tipo_refeicao, preferencia, restricao=None):\n",
        "    if tipo_refeicao == \"café da manhã\":\n",
        "        if preferencia == \"rápido\":\n",
        "            if restricao == \"vegetariano\":\n",
        "                return \"Omelete de ovo com vegetais\"\n",
        "            else:\n",
        "                return \"Torrada com abacate\"\n",
        "        else:\n",
        "            return \"Frutas e iogurte\"\n",
        "\n",
        "    elif tipo_refeicao == \"almoço\":\n",
        "        if restricao == \"vegetariano\":\n",
        "            return \"Salada de quinoa com vegetais\"\n",
        "        elif restricao == \"sem glúten\":\n",
        "            return \"Arroz com frango e vegetais\"\n",
        "        else:\n",
        "            return \"Arroz com frango grelhado\"\n",
        "\n",
        "    elif tipo_refeicao == \"jantar\":\n",
        "        if restricao == \"vegetariano\":\n",
        "            return \"Salada de quinoa com vegetais\"\n",
        "        elif restricao == \"sem glúten\":\n",
        "            return \"Salada de frutas\"\n",
        "        else:\n",
        "            return \"Arroz com frango grelhado\"\n",
        "\n",
        "    return \"Opção não encontrada\"\n",
        "\n",
        "# Interface simples de linha de comando\n",
        "def interface_usuario():\n",
        "    print(\"Bem-vindo ao Sistema de Planejamento de Refeições!\")\n",
        "\n",
        "    tipo_refeicao = input(\"Qual refeição você está planejando? (café da manhã, almoço, jantar): \").strip().lower()\n",
        "    preferencia = input(\"Você tem alguma preferência? (rápido, leve, picante): \").strip().lower()\n",
        "    restricao = input(\"Você tem alguma restrição alimentar? (vegetariano, sem glúten, sem lactose): \").strip().lower()\n",
        "\n",
        "    resultado = planejar_refeicao(tipo_refeicao, preferencia, restricao)\n",
        "    print(f\"Sugestão de refeição: {resultado}\")\n",
        "\n",
        "# Executar o sistema\n",
        "if __name__ == \"__main__\":\n",
        "    interface_usuario()\n"
      ],
      "metadata": {
        "colab": {
          "base_uri": "https://localhost:8080/"
        },
        "id": "_ou0W52nMCEb",
        "outputId": "4834a24c-77f7-42d7-ab8c-d23fb0decf1f"
      },
      "execution_count": 2,
      "outputs": [
        {
          "output_type": "stream",
          "name": "stdout",
          "text": [
            "Bem-vindo ao Sistema de Planejamento de Refeições!\n",
            "Qual refeição você está planejando? (café da manhã, almoço, jantar): café da manhã\n",
            "Você tem alguma preferência? (rápido, leve, picante): leve\n",
            "Você tem alguma restrição alimentar? (vegetariano, sem glúten, sem lactose): \n",
            "Sugestão de refeição: Frutas e iogurte\n"
          ]
        }
      ]
    }
  ]
}